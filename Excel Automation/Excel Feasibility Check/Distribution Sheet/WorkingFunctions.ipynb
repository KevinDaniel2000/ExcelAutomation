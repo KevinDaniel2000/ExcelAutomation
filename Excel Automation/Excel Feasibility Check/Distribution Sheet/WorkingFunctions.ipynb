{
 "cells": [
  {
   "cell_type": "markdown",
   "metadata": {},
   "source": [
    "WORKING LOGIC"
   ]
  },
  {
   "cell_type": "markdown",
   "metadata": {},
   "source": [
    "Parameters"
   ]
  },
  {
   "cell_type": "code",
   "execution_count": 1,
   "metadata": {},
   "outputs": [],
   "source": [
    "import pandas as pd\n",
    "import datetime\n",
    "import math\n",
    "\n",
    "import openpyxl\n",
    "from openpyxl.styles import PatternFill\n",
    "\n",
    "# Parameters    (filePath, sheetname, RangeOfMstLocated, ValuesToUpdate, DataFrame)\n",
    "filePath = \"C:/Users/kevin/Desktop/Prodapt Workspace/Excel Feasibility Check/PROD_simulation - Copy.xlsx\"\n",
    "sheetName = \"Sheet1\"\n",
    "#RangeOfMstLocated = [[5, 8], [2, 4]]\n",
    "RangeOfMstLocated = [[5, 8]]\n",
    "ValuesToUpdate = [[\"ONT CASA-8\", \"762GX\", \"AD_14267_ONT CASA 8\"], [\"ONT CASA-4\", \"762GX\", \"AD_14267_ONT CASA 4\"]]\n",
    "#loadExcelAsDataFrame = pd.read_excel(filePath, sheet_name=\"Sheet1\")"
   ]
  },
  {
   "cell_type": "markdown",
   "metadata": {},
   "source": [
    "Function Without Highlighting"
   ]
  },
  {
   "cell_type": "code",
   "execution_count": 4,
   "metadata": {},
   "outputs": [],
   "source": [
    "# UPDATE & SAVE\n",
    "def DISTRIBUTION_Sheet (filePath, sheetname, RangeOfMstLocated, ValuesToUpdate):\n",
    "\n",
    "    # EXCEL to DataFrame\n",
    "    DataFrame = pd.read_excel(filePath, sheet_name = sheetname)\n",
    "\n",
    "    #------------------------------------------------------------- optional\n",
    "    # Adding Current Date To Value\n",
    "    for i in range(len(ValuesToUpdate)):\n",
    "        currentDate = (datetime.datetime.now()).strftime(\"%x\")\n",
    "        updatedValueWithDate = (str(currentDate)) + \" \" + (ValuesToUpdate[i][2])\n",
    "        ValuesToUpdate[i][2] = str(updatedValueWithDate)\n",
    "    #----------------------------------------------------------------------\n",
    "\n",
    "    # Save\n",
    "    def ReflectChangesToExcel (filePath, sheetname, dataframe):\n",
    "        with pd.ExcelWriter(filePath, engine='openpyxl', mode='a') as writer: \n",
    "            workBook = writer.book\n",
    "            try:\n",
    "                workBook.remove(workBook[sheetname])\n",
    "            except:\n",
    "                print(\"Worksheet does not exist\")\n",
    "            finally:\n",
    "                dataframe.to_excel(writer, sheet_name=sheetname,index=False)\n",
    "                writer.save()\n",
    "\n",
    "    # Update\n",
    "    ndArray = DataFrame.values #DataFrame to ndArray\n",
    "    totalNumberOfValuesToBeUpdated = len(ValuesToUpdate)\n",
    "    staticValueForIncrementOfIndexOfValuesList = 0\n",
    "\n",
    "    totalNumberOfEmptyCellsWithinRange = 0\n",
    "    for i in range(len(ndArray)):\n",
    "        if ( (ndArray[i][0] >= RangeOfMstLocated[0][0]) and (ndArray[i][0] <= RangeOfMstLocated[0][1]) ):\n",
    "            if (type(ndArray[i][3]) == type(0.0)):\n",
    "                totalNumberOfEmptyCellsWithinRange += 1\n",
    "            else:\n",
    "                pass\n",
    "        else:\n",
    "            pass\n",
    "\n",
    "    if totalNumberOfEmptyCellsWithinRange >= len(ValuesToUpdate):\n",
    "        for outterArray in range(len(ndArray)):\n",
    "            for innerArray in range(1):\n",
    "                if ( (ndArray[outterArray][innerArray] >= RangeOfMstLocated[0][0]) and (ndArray[outterArray][innerArray] <= RangeOfMstLocated[0][1]) ):\n",
    "                    nullCheck = ndArray[outterArray][3]\n",
    "                    if type(nullCheck) == type(0.0): # Review Logic\n",
    "                        if totalNumberOfValuesToBeUpdated != 0:\n",
    "                            ndArray[outterArray][3] = ValuesToUpdate[staticValueForIncrementOfIndexOfValuesList][0]\n",
    "                            ndArray[outterArray][4] = ValuesToUpdate[staticValueForIncrementOfIndexOfValuesList][1]\n",
    "                            ndArray[outterArray][5] = \"PRE-ASSIGNED\"\n",
    "                            ndArray[outterArray][6] = ValuesToUpdate[staticValueForIncrementOfIndexOfValuesList][2]\n",
    "                            totalNumberOfValuesToBeUpdated -= 1\n",
    "                            staticValueForIncrementOfIndexOfValuesList += 1\n",
    "                        else:\n",
    "                            pass\n",
    "                    else:\n",
    "                        pass\n",
    "                else:\n",
    "                    pass\n",
    "\n",
    "        # Converting Numpy Array to DataFrame\n",
    "        # Index = Row\n",
    "        ndarray_to_DataFrame = pd.DataFrame(data=ndArray, index=None, columns=(DataFrame.columns), dtype=None, copy=None)\n",
    "        \n",
    "        try:\n",
    "            ReflectChangesToExcel(filePath, sheetname, ndarray_to_DataFrame)\n",
    "            print(\"Values Updated Successfully\")\n",
    "        except:\n",
    "            print(\"Error occured while saving\")\n",
    "    else:\n",
    "        print(\"Expectation of empty cells exceeds the actual available cells\")\n",
    "\n",
    "#DISTRIBUTION_Sheet(filePath, sheetName, RangeOfMstLocated, ValuesToUpdate, loadExcelAsDataFrame)"
   ]
  },
  {
   "cell_type": "markdown",
   "metadata": {},
   "source": [
    "Function Call"
   ]
  },
  {
   "cell_type": "code",
   "execution_count": 4,
   "metadata": {},
   "outputs": [
    {
     "name": "stdout",
     "output_type": "stream",
     "text": [
      "Expectation of empty cells exceeds the actual available cells\n"
     ]
    }
   ],
   "source": [
    "try:\n",
    "    DISTRIBUTION_Sheet(filePath, sheetName, RangeOfMstLocated, ValuesToUpdate)\n",
    "except:\n",
    "    print(\"Error Occured\")"
   ]
  },
  {
   "cell_type": "markdown",
   "metadata": {},
   "source": [
    "Function With Highlighting"
   ]
  },
  {
   "cell_type": "code",
   "execution_count": 2,
   "metadata": {},
   "outputs": [],
   "source": [
    "# UPDATE & SAVE\n",
    "def DISTRIBUTION_Sheet (filePath, sheetname, RangeOfMstLocated, ValuesToUpdate):\n",
    "\n",
    "    # Highlighting Function\n",
    "    def HighlightCellWhereUpdatesMade (changesMadeLog):\n",
    "        wb = openpyxl.load_workbook(filePath)\n",
    "        ws = wb[sheetname]\n",
    "\n",
    "        processedCellHeaderWithRawInput = []\n",
    "        for i in range(len(changesMadeLog)):\n",
    "            processedCellHeaderWithRawInput.append(str( \"D\" + str(changesMadeLog[i] + 2)))\n",
    "            processedCellHeaderWithRawInput.append(str( \"E\" + str(changesMadeLog[i] + 2)))\n",
    "            processedCellHeaderWithRawInput.append(str( \"F\" + str(changesMadeLog[i] + 2)))\n",
    "            processedCellHeaderWithRawInput.append(str( \"G\" + str(changesMadeLog[i] + 2)))\n",
    "\n",
    "        fill_cell = PatternFill(patternType='solid', fgColor='FFFF00') #You can give the hex code for different color\n",
    "\n",
    "        for i in range(len(processedCellHeaderWithRawInput)):\n",
    "            ws[str(processedCellHeaderWithRawInput[i])].fill = fill_cell\n",
    "\n",
    "        wb.save(filePath)\n",
    "\n",
    "    # EXCEL to DataFrame\n",
    "    DataFrame = pd.read_excel(filePath, sheet_name = sheetname)\n",
    "\n",
    "    #------------------------------------------------------------- optional\n",
    "    # Adding Current Date To Value\n",
    "    for i in range(len(ValuesToUpdate)):\n",
    "        currentDate = (datetime.datetime.now()).strftime(\"%x\")\n",
    "        updatedValueWithDate = (str(currentDate)) + \" \" + (ValuesToUpdate[i][2])\n",
    "        ValuesToUpdate[i][2] = str(updatedValueWithDate)\n",
    "    #----------------------------------------------------------------------\n",
    "\n",
    "    # Save\n",
    "    def ReflectChangesToExcel (filePath, sheetname, dataframe):\n",
    "        with pd.ExcelWriter(filePath, engine='openpyxl', mode='a') as writer: \n",
    "            workBook = writer.book\n",
    "            try:\n",
    "                workBook.remove(workBook[sheetname])\n",
    "            except:\n",
    "                print(\"Worksheet does not exist\")\n",
    "            finally:\n",
    "                dataframe.to_excel(writer, sheet_name=sheetname,index=False)\n",
    "                writer.save()\n",
    "\n",
    "    # Update\n",
    "\n",
    "    changesReflectedLog = []\n",
    "\n",
    "    ndArray = DataFrame.values #DataFrame to ndArray\n",
    "    totalNumberOfValuesToBeUpdated = len(ValuesToUpdate)\n",
    "    staticValueForIncrementOfIndexOfValuesList = 0\n",
    "\n",
    "    totalNumberOfEmptyCellsWithinRange = 0\n",
    "    for i in range(len(ndArray)):\n",
    "        if ( (ndArray[i][0] >= RangeOfMstLocated[0][0]) and (ndArray[i][0] <= RangeOfMstLocated[0][1]) ):\n",
    "            if (type(ndArray[i][3]) == type(0.0)):\n",
    "                totalNumberOfEmptyCellsWithinRange += 1\n",
    "            else:\n",
    "                pass\n",
    "        else:\n",
    "            pass\n",
    "\n",
    "    if totalNumberOfEmptyCellsWithinRange >= len(ValuesToUpdate):\n",
    "        for outterArray in range(len(ndArray)):\n",
    "            for innerArray in range(1):\n",
    "                if ( (ndArray[outterArray][innerArray] >= RangeOfMstLocated[0][0]) and (ndArray[outterArray][innerArray] <= RangeOfMstLocated[0][1]) ):\n",
    "                    nullCheck = ndArray[outterArray][3]\n",
    "                    if type(nullCheck) == type(0.0): # Review Logic\n",
    "                        if totalNumberOfValuesToBeUpdated != 0:\n",
    "                            ndArray[outterArray][3] = ValuesToUpdate[staticValueForIncrementOfIndexOfValuesList][0]\n",
    "                            ndArray[outterArray][4] = ValuesToUpdate[staticValueForIncrementOfIndexOfValuesList][1]\n",
    "                            ndArray[outterArray][5] = \"PRE-ASSIGNED\"\n",
    "                            ndArray[outterArray][6] = ValuesToUpdate[staticValueForIncrementOfIndexOfValuesList][2]\n",
    "\n",
    "                            changesReflectedLog.append(outterArray)\n",
    "\n",
    "                            totalNumberOfValuesToBeUpdated -= 1\n",
    "                            staticValueForIncrementOfIndexOfValuesList += 1\n",
    "                        else:\n",
    "                            pass\n",
    "                    else:\n",
    "                        pass\n",
    "                else:\n",
    "                    pass\n",
    "\n",
    "        # Converting Numpy Array to DataFrame\n",
    "        # Index = Row\n",
    "        ndarray_to_DataFrame = pd.DataFrame(data=ndArray, index=None, columns=(DataFrame.columns), dtype=None, copy=None)\n",
    "        \n",
    "        try:\n",
    "            ReflectChangesToExcel(filePath, sheetname, ndarray_to_DataFrame)\n",
    "            HighlightCellWhereUpdatesMade(changesReflectedLog)\n",
    "            print(\"Values Updated Successfully\")\n",
    "        except:\n",
    "            print(\"Error occured while saving\")\n",
    "    else:\n",
    "        print(\"Expectation of empty cells exceeds the actual available cells\")\n",
    "\n",
    "#DISTRIBUTION_Sheet(filePath, sheetName, RangeOfMstLocated, ValuesToUpdate, loadExcelAsDataFrame)"
   ]
  },
  {
   "cell_type": "code",
   "execution_count": null,
   "metadata": {},
   "outputs": [],
   "source": []
  },
  {
   "cell_type": "code",
   "execution_count": null,
   "metadata": {},
   "outputs": [],
   "source": []
  }
 ],
 "metadata": {
  "kernelspec": {
   "display_name": "Python 3.8.3 ('base')",
   "language": "python",
   "name": "python3"
  },
  "language_info": {
   "codemirror_mode": {
    "name": "ipython",
    "version": 3
   },
   "file_extension": ".py",
   "mimetype": "text/x-python",
   "name": "python",
   "nbconvert_exporter": "python",
   "pygments_lexer": "ipython3",
   "version": "3.8.3"
  },
  "orig_nbformat": 4,
  "vscode": {
   "interpreter": {
    "hash": "6defd577cd85e3649e86c46a537635b7104b081260a238509c81cac8b534171b"
   }
  }
 },
 "nbformat": 4,
 "nbformat_minor": 2
}
