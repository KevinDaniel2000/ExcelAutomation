{
 "cells": [
  {
   "cell_type": "markdown",
   "metadata": {},
   "source": [
    "WORKING LOGIC"
   ]
  },
  {
   "cell_type": "code",
   "execution_count": 24,
   "metadata": {},
   "outputs": [],
   "source": [
    "import pandas as pd\n",
    "\n",
    "filePath = \"C:/Users/kevin/Desktop/Prodapt Workspace/Excel Feasibility Check/PROD_simulation.xlsx\"\n",
    "sheetName = \"Sheet1\"\n",
    "\n",
    "# only to reflect changes\n",
    "def ReflectChangesToExcel (filename, sheetname, dataframe):\n",
    "    with pd.ExcelWriter(filename, engine='openpyxl', mode='a') as writer: \n",
    "        workBook = writer.book\n",
    "        try:\n",
    "            workBook.remove(workBook[sheetname])\n",
    "        except:\n",
    "            print(\"Worksheet does not exist\")\n",
    "        finally:\n",
    "            dataframe.to_excel(writer, sheet_name=sheetname,index=False)\n",
    "            writer.save()\n",
    "\n",
    "#ReflectChangesToExcel(filePath ,sheetName, dff) # Function Call\n",
    "\n",
    "# Expected Input Format [[200, 300], [4, 5, 6, 7]]\n",
    "\n",
    "#InputValues = [[5, 8], [2, 4]]\n",
    "#inputValue = [[\"Pandas\"], [\"Pandas\"]]\n",
    "\n",
    "#def UpdateDataFrame (RangeAvailable, InputValues):\n",
    "    "
   ]
  },
  {
   "cell_type": "code",
   "execution_count": 25,
   "metadata": {},
   "outputs": [
    {
     "name": "stdout",
     "output_type": "stream",
     "text": [
      "[[1 'MST 1' 1 'ONT CASA-8' '762GX' 'PRE-ASSIGNED'\n",
      "  '08/20/22 AD_14267_ONT CASA 8']\n",
      " [2 nan 2 'ONT CASA-4' '762GX' 'PRE-ASSIGNED'\n",
      "  '08/20/22 AD_14267_ONT CASA 4']\n",
      " [3 nan 3 nan nan nan nan]\n",
      " [4 nan 4 nan nan nan nan]\n",
      " [5 'MST 2' 1 'dummy' 'dummy' 'dummy' 'dummy']\n",
      " [6 nan 2 'ONT CASA-8' '762GX' 'PRE-ASSIGNED'\n",
      "  '08/20/22 08/20/22 AD_14267_ONT CASA 8']\n",
      " [7 nan 3 'dummy' 'dummy' 'dummy' 'dummy']\n",
      " [8 nan 4 'ONT CASA-4' '762GX' 'PRE-ASSIGNED'\n",
      "  '08/20/22 08/20/22 AD_14267_ONT CASA 4']]\n"
     ]
    }
   ],
   "source": [
    "import pandas as pd\n",
    "\n",
    "filePath = \"C:/Users/kevin/Desktop/Prodapt Workspace/Excel Feasibility Check/PROD_simulation - copy.xlsx\"\n",
    "trialLoad = pd.read_excel(filePath, sheet_name=\"Sheet1\")\n",
    "ndArray = trialLoad.values\n",
    "print(ndArray)\n",
    "\n",
    "InputValues = [[5, 8], [2, 4]]"
   ]
  },
  {
   "cell_type": "code",
   "execution_count": 26,
   "metadata": {},
   "outputs": [],
   "source": [
    "ValuesToUpdate = [[\"ONT CASA-8\", \"762GX\", \"8/10/21 AD_14267_ONT CASA 8\"], [\"ONT CASA-4\", \"762GX\", \"6/2/21 AD_14267_ONT CASA 4\"]]\n",
    "\n",
    "#                                   [[5, 8], [2, 4]]   [[\"ONT CASA-8\", \"762GX\", \"8/10/21 AD_14267_ONT CASA 8\"], [\"ONT CASA-4\", \"762GX\", \"6/2/21 AD_14267_ONT CASA 4\"]]\n",
    "def DISTRIBUTION_Sheet_ValueUpdate (RangeOfMstLocated, ValuesToUpdate):\n",
    "    totalNumberOfValuesToBeUpdated = len(ValuesToUpdate)\n",
    "    staticValueForIncrementOfIndexOfValuesList = 0\n",
    "    for outterArray in range(len(ndArray)):\n",
    "        for innerArray in range(1):\n",
    "            if ( (ndArray[outterArray][innerArray] >= RangeOfMstLocated[0][0]) and (ndArray[outterArray][innerArray] <= RangeOfMstLocated[0][1]) ):\n",
    "                #print(ndArray[outterArray][3])\n",
    "                nullCheck = ndArray[outterArray][3]\n",
    "                #print(type(nullCheck))\n",
    "                if type(nullCheck) == type(0.0): # Review Logic\n",
    "                    if totalNumberOfValuesToBeUpdated != 0:\n",
    "                        ndArray[outterArray][3] = ValuesToUpdate[staticValueForIncrementOfIndexOfValuesList][0]\n",
    "                        ndArray[outterArray][4] = ValuesToUpdate[staticValueForIncrementOfIndexOfValuesList][1]\n",
    "                        ndArray[outterArray][5] = \"PRE-ASSIGNED\"\n",
    "                        ndArray[outterArray][6] = ValuesToUpdate[staticValueForIncrementOfIndexOfValuesList][2]\n",
    "                        totalNumberOfValuesToBeUpdated -= 1\n",
    "                        staticValueForIncrementOfIndexOfValuesList += 1\n",
    "                    else:\n",
    "                        pass\n",
    "                else:\n",
    "                    pass\n",
    "            else:\n",
    "                pass\n",
    "\n",
    "DISTRIBUTION_Sheet_ValueUpdate([[5, 8], [2, 4]], ValuesToUpdate)"
   ]
  },
  {
   "cell_type": "code",
   "execution_count": 27,
   "metadata": {},
   "outputs": [],
   "source": [
    "ndArray\n",
    "convertedDF = pd.DataFrame(data=ndArray, index=None, columns=(trialLoad.columns), dtype=None, copy=None)"
   ]
  },
  {
   "cell_type": "code",
   "execution_count": 28,
   "metadata": {},
   "outputs": [
    {
     "data": {
      "text/html": [
       "<div>\n",
       "<style scoped>\n",
       "    .dataframe tbody tr th:only-of-type {\n",
       "        vertical-align: middle;\n",
       "    }\n",
       "\n",
       "    .dataframe tbody tr th {\n",
       "        vertical-align: top;\n",
       "    }\n",
       "\n",
       "    .dataframe thead th {\n",
       "        text-align: right;\n",
       "    }\n",
       "</style>\n",
       "<table border=\"1\" class=\"dataframe\">\n",
       "  <thead>\n",
       "    <tr style=\"text-align: right;\">\n",
       "      <th></th>\n",
       "      <th>Sno</th>\n",
       "      <th>MST</th>\n",
       "      <th>Port</th>\n",
       "      <th>ONT</th>\n",
       "      <th>Model</th>\n",
       "      <th>Status</th>\n",
       "      <th>Address</th>\n",
       "    </tr>\n",
       "  </thead>\n",
       "  <tbody>\n",
       "    <tr>\n",
       "      <th>0</th>\n",
       "      <td>1</td>\n",
       "      <td>MST 1</td>\n",
       "      <td>1</td>\n",
       "      <td>ONT CASA-8</td>\n",
       "      <td>762GX</td>\n",
       "      <td>PRE-ASSIGNED</td>\n",
       "      <td>08/20/22 AD_14267_ONT CASA 8</td>\n",
       "    </tr>\n",
       "    <tr>\n",
       "      <th>1</th>\n",
       "      <td>2</td>\n",
       "      <td>NaN</td>\n",
       "      <td>2</td>\n",
       "      <td>ONT CASA-4</td>\n",
       "      <td>762GX</td>\n",
       "      <td>PRE-ASSIGNED</td>\n",
       "      <td>08/20/22 AD_14267_ONT CASA 4</td>\n",
       "    </tr>\n",
       "    <tr>\n",
       "      <th>2</th>\n",
       "      <td>3</td>\n",
       "      <td>NaN</td>\n",
       "      <td>3</td>\n",
       "      <td>NaN</td>\n",
       "      <td>NaN</td>\n",
       "      <td>NaN</td>\n",
       "      <td>NaN</td>\n",
       "    </tr>\n",
       "    <tr>\n",
       "      <th>3</th>\n",
       "      <td>4</td>\n",
       "      <td>NaN</td>\n",
       "      <td>4</td>\n",
       "      <td>NaN</td>\n",
       "      <td>NaN</td>\n",
       "      <td>NaN</td>\n",
       "      <td>NaN</td>\n",
       "    </tr>\n",
       "    <tr>\n",
       "      <th>4</th>\n",
       "      <td>5</td>\n",
       "      <td>MST 2</td>\n",
       "      <td>1</td>\n",
       "      <td>dummy</td>\n",
       "      <td>dummy</td>\n",
       "      <td>dummy</td>\n",
       "      <td>dummy</td>\n",
       "    </tr>\n",
       "    <tr>\n",
       "      <th>5</th>\n",
       "      <td>6</td>\n",
       "      <td>NaN</td>\n",
       "      <td>2</td>\n",
       "      <td>ONT CASA-8</td>\n",
       "      <td>762GX</td>\n",
       "      <td>PRE-ASSIGNED</td>\n",
       "      <td>08/20/22 08/20/22 AD_14267_ONT CASA 8</td>\n",
       "    </tr>\n",
       "    <tr>\n",
       "      <th>6</th>\n",
       "      <td>7</td>\n",
       "      <td>NaN</td>\n",
       "      <td>3</td>\n",
       "      <td>dummy</td>\n",
       "      <td>dummy</td>\n",
       "      <td>dummy</td>\n",
       "      <td>dummy</td>\n",
       "    </tr>\n",
       "    <tr>\n",
       "      <th>7</th>\n",
       "      <td>8</td>\n",
       "      <td>NaN</td>\n",
       "      <td>4</td>\n",
       "      <td>ONT CASA-4</td>\n",
       "      <td>762GX</td>\n",
       "      <td>PRE-ASSIGNED</td>\n",
       "      <td>08/20/22 08/20/22 AD_14267_ONT CASA 4</td>\n",
       "    </tr>\n",
       "  </tbody>\n",
       "</table>\n",
       "</div>"
      ],
      "text/plain": [
       "  Sno    MST Port         ONT  Model        Status  \\\n",
       "0   1  MST 1    1  ONT CASA-8  762GX  PRE-ASSIGNED   \n",
       "1   2    NaN    2  ONT CASA-4  762GX  PRE-ASSIGNED   \n",
       "2   3    NaN    3         NaN    NaN           NaN   \n",
       "3   4    NaN    4         NaN    NaN           NaN   \n",
       "4   5  MST 2    1       dummy  dummy         dummy   \n",
       "5   6    NaN    2  ONT CASA-8  762GX  PRE-ASSIGNED   \n",
       "6   7    NaN    3       dummy  dummy         dummy   \n",
       "7   8    NaN    4  ONT CASA-4  762GX  PRE-ASSIGNED   \n",
       "\n",
       "                                 Address  \n",
       "0           08/20/22 AD_14267_ONT CASA 8  \n",
       "1           08/20/22 AD_14267_ONT CASA 4  \n",
       "2                                    NaN  \n",
       "3                                    NaN  \n",
       "4                                  dummy  \n",
       "5  08/20/22 08/20/22 AD_14267_ONT CASA 8  \n",
       "6                                  dummy  \n",
       "7  08/20/22 08/20/22 AD_14267_ONT CASA 4  "
      ]
     },
     "execution_count": 28,
     "metadata": {},
     "output_type": "execute_result"
    }
   ],
   "source": [
    "convertedDF"
   ]
  },
  {
   "cell_type": "code",
   "execution_count": 29,
   "metadata": {},
   "outputs": [
    {
     "data": {
      "text/html": [
       "<div>\n",
       "<style scoped>\n",
       "    .dataframe tbody tr th:only-of-type {\n",
       "        vertical-align: middle;\n",
       "    }\n",
       "\n",
       "    .dataframe tbody tr th {\n",
       "        vertical-align: top;\n",
       "    }\n",
       "\n",
       "    .dataframe thead th {\n",
       "        text-align: right;\n",
       "    }\n",
       "</style>\n",
       "<table border=\"1\" class=\"dataframe\">\n",
       "  <thead>\n",
       "    <tr style=\"text-align: right;\">\n",
       "      <th></th>\n",
       "      <th>Sno</th>\n",
       "      <th>MST</th>\n",
       "      <th>Port</th>\n",
       "      <th>ONT</th>\n",
       "      <th>Model</th>\n",
       "      <th>Status</th>\n",
       "      <th>Address</th>\n",
       "    </tr>\n",
       "  </thead>\n",
       "  <tbody>\n",
       "    <tr>\n",
       "      <th>0</th>\n",
       "      <td>1</td>\n",
       "      <td>MST 1</td>\n",
       "      <td>1</td>\n",
       "      <td>ONT CASA-8</td>\n",
       "      <td>762GX</td>\n",
       "      <td>PRE-ASSIGNED</td>\n",
       "      <td>08/20/22 AD_14267_ONT CASA 8</td>\n",
       "    </tr>\n",
       "    <tr>\n",
       "      <th>1</th>\n",
       "      <td>2</td>\n",
       "      <td>NaN</td>\n",
       "      <td>2</td>\n",
       "      <td>ONT CASA-4</td>\n",
       "      <td>762GX</td>\n",
       "      <td>PRE-ASSIGNED</td>\n",
       "      <td>08/20/22 AD_14267_ONT CASA 4</td>\n",
       "    </tr>\n",
       "    <tr>\n",
       "      <th>2</th>\n",
       "      <td>3</td>\n",
       "      <td>NaN</td>\n",
       "      <td>3</td>\n",
       "      <td>NaN</td>\n",
       "      <td>NaN</td>\n",
       "      <td>NaN</td>\n",
       "      <td>NaN</td>\n",
       "    </tr>\n",
       "    <tr>\n",
       "      <th>3</th>\n",
       "      <td>4</td>\n",
       "      <td>NaN</td>\n",
       "      <td>4</td>\n",
       "      <td>NaN</td>\n",
       "      <td>NaN</td>\n",
       "      <td>NaN</td>\n",
       "      <td>NaN</td>\n",
       "    </tr>\n",
       "    <tr>\n",
       "      <th>4</th>\n",
       "      <td>5</td>\n",
       "      <td>MST 2</td>\n",
       "      <td>1</td>\n",
       "      <td>dummy</td>\n",
       "      <td>dummy</td>\n",
       "      <td>dummy</td>\n",
       "      <td>dummy</td>\n",
       "    </tr>\n",
       "    <tr>\n",
       "      <th>5</th>\n",
       "      <td>6</td>\n",
       "      <td>NaN</td>\n",
       "      <td>2</td>\n",
       "      <td>ONT CASA-8</td>\n",
       "      <td>762GX</td>\n",
       "      <td>PRE-ASSIGNED</td>\n",
       "      <td>08/20/22 08/20/22 AD_14267_ONT CASA 8</td>\n",
       "    </tr>\n",
       "    <tr>\n",
       "      <th>6</th>\n",
       "      <td>7</td>\n",
       "      <td>NaN</td>\n",
       "      <td>3</td>\n",
       "      <td>dummy</td>\n",
       "      <td>dummy</td>\n",
       "      <td>dummy</td>\n",
       "      <td>dummy</td>\n",
       "    </tr>\n",
       "    <tr>\n",
       "      <th>7</th>\n",
       "      <td>8</td>\n",
       "      <td>NaN</td>\n",
       "      <td>4</td>\n",
       "      <td>ONT CASA-4</td>\n",
       "      <td>762GX</td>\n",
       "      <td>PRE-ASSIGNED</td>\n",
       "      <td>08/20/22 08/20/22 AD_14267_ONT CASA 4</td>\n",
       "    </tr>\n",
       "  </tbody>\n",
       "</table>\n",
       "</div>"
      ],
      "text/plain": [
       "   Sno    MST  Port         ONT  Model        Status  \\\n",
       "0    1  MST 1     1  ONT CASA-8  762GX  PRE-ASSIGNED   \n",
       "1    2    NaN     2  ONT CASA-4  762GX  PRE-ASSIGNED   \n",
       "2    3    NaN     3         NaN    NaN           NaN   \n",
       "3    4    NaN     4         NaN    NaN           NaN   \n",
       "4    5  MST 2     1       dummy  dummy         dummy   \n",
       "5    6    NaN     2  ONT CASA-8  762GX  PRE-ASSIGNED   \n",
       "6    7    NaN     3       dummy  dummy         dummy   \n",
       "7    8    NaN     4  ONT CASA-4  762GX  PRE-ASSIGNED   \n",
       "\n",
       "                                 Address  \n",
       "0           08/20/22 AD_14267_ONT CASA 8  \n",
       "1           08/20/22 AD_14267_ONT CASA 4  \n",
       "2                                    NaN  \n",
       "3                                    NaN  \n",
       "4                                  dummy  \n",
       "5  08/20/22 08/20/22 AD_14267_ONT CASA 8  \n",
       "6                                  dummy  \n",
       "7  08/20/22 08/20/22 AD_14267_ONT CASA 4  "
      ]
     },
     "execution_count": 29,
     "metadata": {},
     "output_type": "execute_result"
    }
   ],
   "source": [
    "trialLoad"
   ]
  },
  {
   "cell_type": "code",
   "execution_count": 23,
   "metadata": {},
   "outputs": [
    {
     "name": "stdout",
     "output_type": "stream",
     "text": [
      "08/22/22\n"
     ]
    }
   ],
   "source": [
    "import datetime\n",
    "\n",
    "y = (datetime.datetime.now()).strftime(\"%x\")\n",
    "\n",
    "print(y)"
   ]
  },
  {
   "cell_type": "code",
   "execution_count": 20,
   "metadata": {},
   "outputs": [
    {
     "name": "stdout",
     "output_type": "stream",
     "text": [
      "[['ONT CASA-8', '762GX', '08/08/22 AD_14267_ONT CASA 8'], ['ONT CASA-4', '762GX', '08/08/22 AD_14267_ONT CASA 4']]\n"
     ]
    }
   ],
   "source": [
    "ValuesToUpdate = [[\"ONT CASA-8\", \"762GX\", \"AD_14267_ONT CASA 8\"], [\"ONT CASA-4\", \"762GX\", \"AD_14267_ONT CASA 4\"]]\n",
    "\n",
    "for i in range(len(ValuesToUpdate)):\n",
    "    currentDate = (datetime.datetime.now()).strftime(\"%x\")\n",
    "    updatedValueWithDate = (str(currentDate)) + \" \" + (ValuesToUpdate[i][2])\n",
    "    ValuesToUpdate[i][2] = str(updatedValueWithDate)\n",
    "\n",
    "print(ValuesToUpdate)\n"
   ]
  },
  {
   "cell_type": "code",
   "execution_count": 10,
   "metadata": {},
   "outputs": [
    {
     "data": {
      "text/html": [
       "<div>\n",
       "<style scoped>\n",
       "    .dataframe tbody tr th:only-of-type {\n",
       "        vertical-align: middle;\n",
       "    }\n",
       "\n",
       "    .dataframe tbody tr th {\n",
       "        vertical-align: top;\n",
       "    }\n",
       "\n",
       "    .dataframe thead th {\n",
       "        text-align: right;\n",
       "    }\n",
       "</style>\n",
       "<table border=\"1\" class=\"dataframe\">\n",
       "  <thead>\n",
       "    <tr style=\"text-align: right;\">\n",
       "      <th></th>\n",
       "      <th>A</th>\n",
       "      <th>B</th>\n",
       "    </tr>\n",
       "  </thead>\n",
       "  <tbody>\n",
       "    <tr>\n",
       "      <th>0</th>\n",
       "      <td>1</td>\n",
       "      <td>1111</td>\n",
       "    </tr>\n",
       "    <tr>\n",
       "      <th>1</th>\n",
       "      <td>2</td>\n",
       "      <td>2222</td>\n",
       "    </tr>\n",
       "    <tr>\n",
       "      <th>2</th>\n",
       "      <td>3</td>\n",
       "      <td>3333</td>\n",
       "    </tr>\n",
       "  </tbody>\n",
       "</table>\n",
       "</div>"
      ],
      "text/plain": [
       "   A     B\n",
       "0  1  1111\n",
       "1  2  2222\n",
       "2  3  3333"
      ]
     },
     "execution_count": 10,
     "metadata": {},
     "output_type": "execute_result"
    }
   ],
   "source": [
    "import pandas as pd\n",
    "\n",
    "dataframe = pd.read_excel(\"C:/Users/kevin/Desktop/Prodapt Workspace/Excel Feasibility Check/PROD_simulation - Copy.xlsx\")\n",
    "dataframe"
   ]
  },
  {
   "cell_type": "code",
   "execution_count": 16,
   "metadata": {},
   "outputs": [
    {
     "data": {
      "text/html": [
       "<style  type=\"text/css\" >\n",
       "    #T_460d1b9c_1df1_11ed_902a_4c3488a6a93brow0_col0 {\n",
       "            background-color:  ;\n",
       "        }    #T_460d1b9c_1df1_11ed_902a_4c3488a6a93brow0_col1 {\n",
       "            background-color:  yellow;\n",
       "        }    #T_460d1b9c_1df1_11ed_902a_4c3488a6a93brow1_col0 {\n",
       "            background-color:  ;\n",
       "        }    #T_460d1b9c_1df1_11ed_902a_4c3488a6a93brow1_col1 {\n",
       "            background-color:  ;\n",
       "        }    #T_460d1b9c_1df1_11ed_902a_4c3488a6a93brow2_col0 {\n",
       "            background-color:  ;\n",
       "        }    #T_460d1b9c_1df1_11ed_902a_4c3488a6a93brow2_col1 {\n",
       "            background-color:  ;\n",
       "        }</style><table id=\"T_460d1b9c_1df1_11ed_902a_4c3488a6a93b\" ><thead>    <tr>        <th class=\"blank level0\" ></th>        <th class=\"col_heading level0 col0\" >A</th>        <th class=\"col_heading level0 col1\" >B</th>    </tr></thead><tbody>\n",
       "                <tr>\n",
       "                        <th id=\"T_460d1b9c_1df1_11ed_902a_4c3488a6a93blevel0_row0\" class=\"row_heading level0 row0\" >0</th>\n",
       "                        <td id=\"T_460d1b9c_1df1_11ed_902a_4c3488a6a93brow0_col0\" class=\"data row0 col0\" >1</td>\n",
       "                        <td id=\"T_460d1b9c_1df1_11ed_902a_4c3488a6a93brow0_col1\" class=\"data row0 col1\" >1111</td>\n",
       "            </tr>\n",
       "            <tr>\n",
       "                        <th id=\"T_460d1b9c_1df1_11ed_902a_4c3488a6a93blevel0_row1\" class=\"row_heading level0 row1\" >1</th>\n",
       "                        <td id=\"T_460d1b9c_1df1_11ed_902a_4c3488a6a93brow1_col0\" class=\"data row1 col0\" >2</td>\n",
       "                        <td id=\"T_460d1b9c_1df1_11ed_902a_4c3488a6a93brow1_col1\" class=\"data row1 col1\" >2222</td>\n",
       "            </tr>\n",
       "            <tr>\n",
       "                        <th id=\"T_460d1b9c_1df1_11ed_902a_4c3488a6a93blevel0_row2\" class=\"row_heading level0 row2\" >2</th>\n",
       "                        <td id=\"T_460d1b9c_1df1_11ed_902a_4c3488a6a93brow2_col0\" class=\"data row2 col0\" >3</td>\n",
       "                        <td id=\"T_460d1b9c_1df1_11ed_902a_4c3488a6a93brow2_col1\" class=\"data row2 col1\" >3333</td>\n",
       "            </tr>\n",
       "    </tbody></table>"
      ],
      "text/plain": [
       "<pandas.io.formats.style.Styler at 0x2cfdf68aa60>"
      ]
     },
     "execution_count": 16,
     "metadata": {},
     "output_type": "execute_result"
    }
   ],
   "source": [
    "def highlight_cells(val):\n",
    "    color = 'yellow' if val == 1111 else ''\n",
    "    return 'background-color: {}'.format(color)\n",
    "\n",
    "dataframe.style.applymap(highlight_cells)"
   ]
  },
  {
   "cell_type": "code",
   "execution_count": 34,
   "metadata": {},
   "outputs": [
    {
     "data": {
      "text/html": [
       "<style  type=\"text/css\" >\n",
       "    #T_3a161fe1_1df3_11ed_91db_4c3488a6a93brow0_col0 {\n",
       "            background-color:  red;\n",
       "        }    #T_3a161fe1_1df3_11ed_91db_4c3488a6a93brow0_col1 {\n",
       "            background-color:  yellow;\n",
       "        }    #T_3a161fe1_1df3_11ed_91db_4c3488a6a93brow1_col0 {\n",
       "            background-color:  red;\n",
       "        }    #T_3a161fe1_1df3_11ed_91db_4c3488a6a93brow1_col1 {\n",
       "            background-color:  red;\n",
       "        }    #T_3a161fe1_1df3_11ed_91db_4c3488a6a93brow2_col0 {\n",
       "            background-color:  red;\n",
       "        }    #T_3a161fe1_1df3_11ed_91db_4c3488a6a93brow2_col1 {\n",
       "            background-color:  red;\n",
       "        }</style><table id=\"T_3a161fe1_1df3_11ed_91db_4c3488a6a93b\" ><thead>    <tr>        <th class=\"blank level0\" ></th>        <th class=\"col_heading level0 col0\" >A</th>        <th class=\"col_heading level0 col1\" >B</th>    </tr></thead><tbody>\n",
       "                <tr>\n",
       "                        <th id=\"T_3a161fe1_1df3_11ed_91db_4c3488a6a93blevel0_row0\" class=\"row_heading level0 row0\" >0</th>\n",
       "                        <td id=\"T_3a161fe1_1df3_11ed_91db_4c3488a6a93brow0_col0\" class=\"data row0 col0\" >1</td>\n",
       "                        <td id=\"T_3a161fe1_1df3_11ed_91db_4c3488a6a93brow0_col1\" class=\"data row0 col1\" >1111</td>\n",
       "            </tr>\n",
       "            <tr>\n",
       "                        <th id=\"T_3a161fe1_1df3_11ed_91db_4c3488a6a93blevel0_row1\" class=\"row_heading level0 row1\" >1</th>\n",
       "                        <td id=\"T_3a161fe1_1df3_11ed_91db_4c3488a6a93brow1_col0\" class=\"data row1 col0\" >2</td>\n",
       "                        <td id=\"T_3a161fe1_1df3_11ed_91db_4c3488a6a93brow1_col1\" class=\"data row1 col1\" >2222</td>\n",
       "            </tr>\n",
       "            <tr>\n",
       "                        <th id=\"T_3a161fe1_1df3_11ed_91db_4c3488a6a93blevel0_row2\" class=\"row_heading level0 row2\" >2</th>\n",
       "                        <td id=\"T_3a161fe1_1df3_11ed_91db_4c3488a6a93brow2_col0\" class=\"data row2 col0\" >3</td>\n",
       "                        <td id=\"T_3a161fe1_1df3_11ed_91db_4c3488a6a93brow2_col1\" class=\"data row2 col1\" >3333</td>\n",
       "            </tr>\n",
       "    </tbody></table>"
      ],
      "text/plain": [
       "<pandas.io.formats.style.Styler at 0x2cfdf8149a0>"
      ]
     },
     "execution_count": 34,
     "metadata": {},
     "output_type": "execute_result"
    }
   ],
   "source": [
    "def highlight_cells(val, color_if_true, color_if_false):\n",
    "    color = color_if_true if val == 1111 else color_if_false\n",
    "    return 'background-color: {}'.format(color)\n",
    "\n",
    "dataframe.style.applymap(highlight_cells, color_if_true='yellow', color_if_false='red', subset=['A', 'B'])"
   ]
  },
  {
   "cell_type": "code",
   "execution_count": 37,
   "metadata": {},
   "outputs": [
    {
     "data": {
      "text/plain": [
       "array([[   1, 1111],\n",
       "       [   2, 2222],\n",
       "       [   3, 3333]], dtype=int64)"
      ]
     },
     "execution_count": 37,
     "metadata": {},
     "output_type": "execute_result"
    }
   ],
   "source": [
    "dataframe.values"
   ]
  },
  {
   "cell_type": "code",
   "execution_count": 36,
   "metadata": {},
   "outputs": [],
   "source": [
    "dataframe.style.applymap(highlight_cells, color_if_true='yellow', color_if_false='red', subset=['A', 'B'])\\\n",
    "        .to_excel('C:/Users/kevin/Desktop/Prodapt Workspace/Excel Feasibility Check/ZZZ.xlsx', engine='openpyxl')"
   ]
  },
  {
   "cell_type": "code",
   "execution_count": 25,
   "metadata": {},
   "outputs": [],
   "source": [
    "# Save\n",
    "def ReflectChangesToExcel (filePath, sheetname, dataframe):\n",
    "    with pd.ExcelWriter(filePath, engine='openpyxl', mode='a') as writer: \n",
    "        workBook = writer.book\n",
    "        try:\n",
    "            workBook.remove(workBook[sheetname])\n",
    "        except:\n",
    "            print(\"Worksheet does not exist\")\n",
    "        finally:\n",
    "            dataframe.to_excel(writer, sheet_name=sheetname,index=False)\n",
    "            writer.save()\n",
    "ReflectChangesToExcel(\"C:/Users/kevin/Desktop/Prodapt Workspace/Excel Feasibility Check/PROD_simulation - Copy.xlsx\", \"Sheet2\", dataframe)"
   ]
  },
  {
   "cell_type": "code",
   "execution_count": 12,
   "metadata": {},
   "outputs": [],
   "source": [
    "import pandas as pd\n",
    "import math\n",
    "trial = pd.read_excel(\"C:/Users/kevin/Desktop/Prodapt Workspace/Excel Feasibility Check/PROD_simulation - Copy.xlsx\", sheet_name = \"Sheet1\")\n",
    "trial.values[0][5]\n",
    "\n",
    "if math.isnan (trial.values[0][5]) == False:\n",
    "    print(\"null\")"
   ]
  },
  {
   "cell_type": "code",
   "execution_count": null,
   "metadata": {},
   "outputs": [],
   "source": [
    "var = [\"a\", \"a\"]\n",
    "for i in range(len(ValuesToUpdate)):\n",
    "    print(\"aa\")\n",
    "    currentDate = (datetime.datetime.now()).strftime(\"%x\")\n",
    "    print(currentDate)\n",
    "    updatedValueWithDate = (str(currentDate)) + \" \" + (ValuesToUpdate[i][2])\n",
    "    print(updatedValueWithDate)\n",
    "    ValuesToUpdate[i][2] = str(updatedValueWithDate)"
   ]
  },
  {
   "cell_type": "code",
   "execution_count": 38,
   "metadata": {},
   "outputs": [],
   "source": [
    "# HIGHLIGHTING CELLS WORKING\n",
    "\n",
    "import openpyxl\n",
    "from openpyxl.styles import PatternFill\n",
    "\n",
    "wb = openpyxl.load_workbook(\"C:/Users/kevin/Desktop/Prodapt Workspace/Excel Feasibility Check/PROD_simulation - Copy.xlsx\") #path to the Excel file\n",
    "ws = wb['Sheet2'] #Name of the working sheet\n",
    "\n",
    "fill_cell = PatternFill(patternType='solid', fgColor='FFFF00') #You can give the hex code for different color\n",
    "\n",
    "ws['B2'].fill = fill_cell # B2 is the name of the cell to be fill with color\n",
    "\n",
    "wb.save(\"C:/Users/kevin/Desktop/Prodapt Workspace/Excel Feasibility Check/XXX.xlsx\")\n"
   ]
  },
  {
   "cell_type": "code",
   "execution_count": null,
   "metadata": {},
   "outputs": [],
   "source": [
    "import openpyxl\n",
    "from openpyxl.styles import PatternFill\n",
    "\n",
    "[4, 6]\n",
    "\n",
    "def HighlightCellWhereUpdateHappens (changesMadeLog):\n",
    "    wb = openpyxl.load_workbook(filePath)\n",
    "    ws = wb[\"Sheet1\"]\n",
    "\n",
    "    processedCellHeaderWithRawInput = []\n",
    "    for i in range(len(changesMadeLog)):\n",
    "        processedCellHeaderWithRawInput.append(str( \"D\" + str(changesMadeLog[i] + 2)))\n",
    "        processedCellHeaderWithRawInput.append(str( \"E\" + str(changesMadeLog[i] + 2)))\n",
    "        processedCellHeaderWithRawInput.append(str( \"F\" + str(changesMadeLog[i] + 2)))\n",
    "        processedCellHeaderWithRawInput.append(str( \"G\" + str(changesMadeLog[i] + 2)))\n",
    "\n",
    "    fill_cell = PatternFill(patternType='solid', fgColor='FFFF00') #You can give the hex code for different color\n",
    "    print(processedCellHeaderWithRawInput)\n",
    "    #for i in range(len(processedCellHeaderWithRawInput)):\n",
    "    #    ws[processedCellHeaderWithRawInput[i]].fill = fill_cell\n",
    "\n",
    "    #wb.save(\"C:/Users/kevin/Desktop/Prodapt Workspace/Excel Feasibility Check/XXX.xlsx\")\n",
    "\n",
    "HighlightCellWhereUpdateHappens([4,6])"
   ]
  },
  {
   "cell_type": "code",
   "execution_count": 7,
   "metadata": {},
   "outputs": [
    {
     "name": "stdout",
     "output_type": "stream",
     "text": [
      "<Worksheet \"Sheet1\">\n"
     ]
    }
   ],
   "source": [
    "import openpyxl\n",
    "wb = openpyxl.load_workbook(\"C:/Users/kevin/Desktop/Prodapt Workspace/Excel Feasibility Check/PROD_simulation - Copy.xlsx\")\n",
    "ws = wb[\"Sheet1\"]\n",
    "\n",
    "print(ws)"
   ]
  },
  {
   "cell_type": "code",
   "execution_count": 14,
   "metadata": {},
   "outputs": [],
   "source": [
    "# Node class\n",
    "class Node:\n",
    "\t# Function to initialise the node object\n",
    "\tdef __init__(self, data):\n",
    "\t\tself.data = data # Assign data\n",
    "\t\tself.next = None # Initialize next as null\n",
    "\n",
    "\n",
    "# Linked List class contains a Node object\n",
    "class LinkedList:\n",
    "\n",
    "\t# Function to initialize head\n",
    "\tdef __init__(self):\n",
    "\t\tself.head = None\n",
    "\n",
    "\n",
    "# Code execution starts here\n",
    "if __name__=='__main__':\n",
    "\n",
    "\t# Start with the empty list\n",
    "\tllist = LinkedList()\n",
    "\n",
    "\tllist.head = Node(1)\n",
    "\tsecond = Node(2)\n",
    "\tthird = Node(3)\n",
    "\n",
    "\tllist.head.next = second # Link first node with second\n",
    "\n",
    "\tsecond.next = third # Link second node with the third node\n"
   ]
  },
  {
   "cell_type": "code",
   "execution_count": 15,
   "metadata": {},
   "outputs": [
    {
     "name": "stdout",
     "output_type": "stream",
     "text": [
      "1\n",
      "2\n",
      "3\n"
     ]
    }
   ],
   "source": [
    "# A simple Python program for traversal of a linked list\n",
    "\n",
    "# Node class\n",
    "class Node:\n",
    "\n",
    "\t# Function to initialise the node object\n",
    "\tdef __init__(self, data):\n",
    "\t\tself.data = data # Assign data\n",
    "\t\tself.next = None # Initialize next as null\n",
    "\n",
    "\n",
    "# Linked List class contains a Node object\n",
    "class LinkedList:\n",
    "\n",
    "\t# Function to initialize head\n",
    "\tdef __init__(self):\n",
    "\t\tself.head = None\n",
    "\n",
    "\t# This function prints contents of linked list\n",
    "\t# starting from head\n",
    "\tdef printList(self):\n",
    "\t\ttemp = self.head\n",
    "\t\twhile (temp):\n",
    "\t\t\tprint (temp.data)\n",
    "\t\t\ttemp = temp.next\n",
    "\n",
    "\n",
    "# Code execution starts here\n",
    "if __name__=='__main__':\n",
    "\n",
    "\t# Start with the empty list\n",
    "\tllist = LinkedList()\n",
    "\n",
    "\tllist.head = Node(1)\n",
    "\tsecond = Node(2)\n",
    "\tthird = Node(3)\n",
    "\n",
    "\tllist.head.next = second; # Link first node with second\n",
    "\tsecond.next = third; # Link second node with the third node\n",
    "\n",
    "\tllist.printList()\n"
   ]
  },
  {
   "cell_type": "code",
   "execution_count": 22,
   "metadata": {},
   "outputs": [
    {
     "data": {
      "text/plain": [
       "1"
      ]
     },
     "execution_count": 22,
     "metadata": {},
     "output_type": "execute_result"
    }
   ],
   "source": [
    "class A:\n",
    "    a=10\n",
    "    def __init__(self, b):\n",
    "        self.b = b\n",
    "        self.a = b\n",
    "A(1).a"
   ]
  },
  {
   "cell_type": "code",
   "execution_count": 48,
   "metadata": {},
   "outputs": [
    {
     "name": "stdout",
     "output_type": "stream",
     "text": [
      "a\n",
      "b\n",
      "c\n",
      "kevin12 *^\n"
     ]
    }
   ],
   "source": [
    "a = [\"abc\", \"abf\"]\n",
    "a[0] = a[0].replace(\" \", \"\")\n",
    "a\n",
    "for i in a[0]:\n",
    "    print(i)\n",
    "b = 0.333\n",
    "\n",
    "\n",
    "c= \"Kevin12 *^\"\n",
    "print(c.lower())"
   ]
  },
  {
   "cell_type": "code",
   "execution_count": 62,
   "metadata": {},
   "outputs": [
    {
     "name": "stdout",
     "output_type": "stream",
     "text": [
      "11 0\n",
      "1.0\n"
     ]
    }
   ],
   "source": [
    "#Parameter Format //array : [\"address 1\", \"address 2\", \"address 3\"......., N] \n",
    "def StringMatchRatio(inputArray):\n",
    "    maxLengthValueStringIndex = 0\n",
    "    maxLengthValueOfString = 0\n",
    "    numberOfCharMatched = 0\n",
    "\n",
    "    #Convert all upper-case to lower-case alphabet \n",
    "    #To prevent ASCII value mismatch for same alphabet\n",
    "    for eachInputStringInArray in range(len(inputArray)):\n",
    "        inputArray[eachInputStringInArray] = (inputArray[eachInputStringInArray].lower())\n",
    "\n",
    "    #Find Index of Largest String\n",
    "    for eachInputStringInArray in range(len(inputArray)):\n",
    "        if (maxLengthValueOfString) < ( len(inputArray[eachInputStringInArray]) ):\n",
    "            maxLengthValueOfString = len(inputArray[eachInputStringInArray])\n",
    "            maxLengthValueStringIndex = eachInputStringInArray\n",
    "        else:\n",
    "            pass\n",
    "\n",
    "    #Remove Space\n",
    "    for eachInputStringInArray in range(len(inputArray)):\n",
    "        inputArray[eachInputStringInArray] = inputArray[eachInputStringInArray].replace(\" \", \"\")\n",
    "\n",
    "    #Match\n",
    "    charIteratorMemory = 0\n",
    "    for eachCharacter in inputArray[maxLengthValueStringIndex]:\n",
    "        numberOfCharMatchedWithOtherStringExceptItself = 0\n",
    "\n",
    "        for eachStringInInputArray in range(len(inputArray)):\n",
    "            if eachStringInInputArray == maxLengthValueStringIndex:\n",
    "                pass\n",
    "            else:\n",
    "                # Try-Catch block to ignore unwanted index error\n",
    "                try:\n",
    "                    if inputArray[eachStringInInputArray][charIteratorMemory] == eachCharacter:\n",
    "                        numberOfCharMatchedWithOtherStringExceptItself += 1\n",
    "                    else:\n",
    "                        pass\n",
    "                except:\n",
    "                    pass\n",
    "        if int(numberOfCharMatchedWithOtherStringExceptItself) == int(len(inputArray)-1):\n",
    "            numberOfCharMatched += 1\n",
    "        else:\n",
    "            pass\n",
    "        charIteratorMemory += 1\n",
    "\n",
    "    #Percentage Generator\n",
    "    resultMatchPercentage = (numberOfCharMatched) / (len(inputArray[maxLengthValueStringIndex]))\n",
    "    print(numberOfCharMatched, maxLengthValueStringIndex)\n",
    "    return('{0:.2}'.format(resultMatchPercentage))\n",
    "\n",
    "#ratio = StringMatchRatio([\"10A Ganapathy Nagar\", \"10 A Ganpathy Nagar\", \"10 Ganapathy Nagar\"])\n",
    "ratio = StringMatchRatio([\"10A Ganapathy Nagar\", \"10 A Ganpathy Nagar\"])\n",
    "\n",
    "print(ratio)"
   ]
  },
  {
   "cell_type": "code",
   "execution_count": 7,
   "metadata": {},
   "outputs": [
    {
     "name": "stdout",
     "output_type": "stream",
     "text": [
      "3 0\n",
      "0.16\n"
     ]
    }
   ],
   "source": [
    "#Parameter Format //array : [\"address 1\", \"address 2\", \"address 3\"......., N] \n",
    "def StringMatchRatio(inputArray):\n",
    "    maxLengthValueStringIndex = 0\n",
    "    maxLengthValueOfString = 0\n",
    "    numberOfCharMatched = 0\n",
    "\n",
    "    #Convert all upper-case to lower-case alphabet \n",
    "    #To prevent ASCII value mismatch for same alphabet\n",
    "    for eachInputStringInArray in range(len(inputArray)):\n",
    "        inputArray[eachInputStringInArray] = (inputArray[eachInputStringInArray].lower())\n",
    "\n",
    "    #Find Index of Largest String\n",
    "    for eachInputStringInArray in range(len(inputArray)):\n",
    "        if (maxLengthValueOfString) < ( len(inputArray[eachInputStringInArray]) ):\n",
    "            maxLengthValueOfString = len(inputArray[eachInputStringInArray])\n",
    "            maxLengthValueStringIndex = eachInputStringInArray\n",
    "        else:\n",
    "            pass\n",
    "\n",
    "    #Remove Space-------------------------------------------------------------------------------------------------------------\n",
    "    inputModified = []\n",
    "    for eachInputStringInArray in range(len(inputArray)):\n",
    "        tempArrayForEachWord = []\n",
    "        #inputArray[eachInputStringInArray] = inputArray[eachInputStringInArray].replace(\" \", \"\")\n",
    "        catchEachWord = \"\"\n",
    "        for eachChar in inputArray[eachInputStringInArray]:\n",
    "            if eachChar != \" \":\n",
    "                catchEachWord = catchEachWord + eachChar\n",
    "            else:\n",
    "                tempArrayForEachWord.append(catchEachWord)\n",
    "                catchEachWord = \"\"\n",
    "        tempArrayForEachWord.append(catchEachWord)\n",
    "        inputModified.append(tempArrayForEachWord)\n",
    "\n",
    "    #Match\n",
    "    # [['10A', 'Ganapathy', 'Nagar'], ['10A', 'Ganpathy', 'Nagar'], ['10AAA', 'Ganapathy', 'Nagar']]\n",
    "    #     \n",
    "    inputModifiedGroupedAlongSimilarWords = []\n",
    "\n",
    "    iteratorMemory_1 = 0\n",
    "    for theWordsFromLongestSentence in inputModified[maxLengthValueStringIndex]:\n",
    "        #10AAA\n",
    "        tempHolderForEachWord = []\n",
    "        tempHolderForEachWord.append(theWordsFromLongestSentence)\n",
    "\n",
    "        for theWordsFromOtherSentenceIndex in range(len(inputModified)):\n",
    "            if theWordsFromOtherSentenceIndex == maxLengthValueStringIndex:\n",
    "                pass\n",
    "            else:\n",
    "                tempHolderForEachWord.append(inputModified[theWordsFromOtherSentenceIndex][iteratorMemory_1])\n",
    "        inputModifiedGroupedAlongSimilarWords.append(tempHolderForEachWord)\n",
    "        iteratorMemory_1 += 1\n",
    "\n",
    "\n",
    "\n",
    "\n",
    "\n",
    "    # [['10AAA', '10A', '10A'], ['Ganapathy', 'Ganapathy', 'Ganpathy'], ['Nagar', 'Nagar', 'Nagar']]\n",
    "    for eachSeperatedWord in range(len(inputModifiedGroupedAlongSimilarWords)):\n",
    "        #['10AAA', '10A', '10A']\n",
    "        tempNumberOfCharMatchedWithinSimilarWord = 0\n",
    "        iteratorForChar = 0\n",
    "        for eachCharFromLargestWord in inputModifiedGroupedAlongSimilarWords[eachSeperatedWord][0]:\n",
    "            #1\n",
    "            #0\n",
    "            #A\n",
    "            #A\n",
    "            #A\n",
    "            tempNumberOfMatchFoundForPerCharacter = 0\n",
    "            for wordsExceptLargest in range(1, len(inputModifiedGroupedAlongSimilarWords[eachSeperatedWord][0])):\n",
    "                try:\n",
    "                    if eachCharFromLargestWord == inputModifiedGroupedAlongSimilarWords[eachSeperatedWord][wordsExceptLargest][iteratorForChar]:\n",
    "                        tempNumberOfMatchFoundForPerCharacter += 1\n",
    "                    else:\n",
    "                        pass\n",
    "                except:\n",
    "                    pass\n",
    "            if tempNumberOfMatchFoundForPerCharacter == len(inputModifiedGroupedAlongSimilarWords[eachSeperatedWord])-1 :\n",
    "                tempNumberOfCharMatchedWithinSimilarWord += 1\n",
    "            else:\n",
    "                pass\n",
    "            iteratorForChar += 1\n",
    "        numberOfCharMatched = numberOfCharMatched + tempNumberOfCharMatchedWithinSimilarWord\n",
    "        \n",
    "    #Percentage Generator\n",
    "    resultMatchPercentage = (numberOfCharMatched) / (len(inputArray[maxLengthValueStringIndex]))\n",
    "    print(numberOfCharMatched, maxLengthValueStringIndex)\n",
    "    return('{0:.2}'.format(resultMatchPercentage))\n",
    "\n",
    "ratio = StringMatchRatio([\"10A Ganapathy Nagar\", \"10 A Ganpathy Nagar\", \"10 Ganapathy Nagar\"])\n",
    "#ratio = StringMatchRatio([\"10A Ganapathy Nagar\", \"10 A Ganpathy Nagar\"])\n",
    "\n",
    "print(ratio)"
   ]
  },
  {
   "cell_type": "code",
   "execution_count": 107,
   "metadata": {},
   "outputs": [],
   "source": [
    "#Remove Space-------------------------------------------------------------------------------------------------------------\n",
    "a = [\"10A Ganapathy Nagar\", \"10A Ganpathy Nagar\", \"10 Ganapathy Nagar\"]\n",
    "inputModified = []\n",
    "for eachInputStringInArray in range(len(a)):\n",
    "    tempArrayForEachWord = []\n",
    "    catchEachWord = \"\"\n",
    "    for eachChar in a[eachInputStringInArray]:\n",
    "        if eachChar != \" \":\n",
    "            catchEachWord = catchEachWord + eachChar\n",
    "        elif eachChar == \" \":\n",
    "            tempArrayForEachWord.append(catchEachWord)\n",
    "            catchEachWord = \"\"\n",
    "    tempArrayForEachWord.append(catchEachWord)\n",
    "    inputModified.append(tempArrayForEachWord)"
   ]
  },
  {
   "cell_type": "code",
   "execution_count": 108,
   "metadata": {},
   "outputs": [
    {
     "name": "stdout",
     "output_type": "stream",
     "text": [
      "[['10A', 'Ganapathy', 'Nagar'], ['10A', 'Ganpathy', 'Nagar'], ['10', 'Ganapathy', 'Nagar']]\n"
     ]
    }
   ],
   "source": [
    "print(inputModified)"
   ]
  },
  {
   "cell_type": "code",
   "execution_count": null,
   "metadata": {},
   "outputs": [],
   "source": [
    "#Match\n",
    "# [['10A', 'Ganapathy', 'Nagar'], ['10A', 'Ganpathy', 'Nagar'], ['10AAA', 'Ganapathy', 'Nagar']]\n",
    "\n",
    "numberOfCharMatchedWithOtherStringExceptItself = 0\n",
    "if int(numberOfCharMatchedWithOtherStringExceptItself) == int(len(inputArray)-1):\n",
    "    numberOfCharMatched += 1\n",
    "\n",
    "    iteratorMemory_1 = 0\n",
    "    for theWordsFromLongestSentence in inputModified[maxLengthValueStringIndex]:\n",
    "        #10AAA\n",
    "        #iteratorMemory_2 = 0\n",
    "        for theWordsFromEverySentenceIndex in range(len(inputModified)):\n",
    "            #10A, 10A\n",
    "            tempHolderForSingleWordFromEverSentence = []\n",
    "            if theWordsFromEverySentenceIndex == maxLengthValueStringIndex:\n",
    "                pass\n",
    "            else:\n",
    "                tempHolderForSingleWordFromEverSentence.append()\n",
    "\n",
    "\n",
    "\n",
    "\n",
    "\n",
    "                for eachCharIndex in range(len(theWordsFromLongestSentence)):\n",
    "                    try:\n",
    "                        if theWordsFromLongestSentence[eachCharIndex] == theWordsFromEverySentence[eachCharIndex]:\n",
    "                            numberOfCharMatchedWithOtherStringExceptItself += 1\n",
    "                        else:\n",
    "                            pass\n",
    "                    except:\n",
    "                        pass\n",
    "\n",
    "            #iteratorMemory_2 += 1\n",
    "        iteratorMemory_1 += 1"
   ]
  },
  {
   "cell_type": "code",
   "execution_count": 1,
   "metadata": {},
   "outputs": [],
   "source": [
    "a=[['10A', 'Ganapathy', 'Nagar'], ['10A', 'Ganpathy', 'Nagar'], ['10AAA', 'Ganapathy', 'Nagar']]\n",
    "\n",
    "inputModifiedGroupedAlongSimilarWords = []\n",
    "\n",
    "iteratorMemory_1 = 0\n",
    "for theWordsFromLongestSentence in a[2]:\n",
    "        #10AAA\n",
    "    tempHolderForEachWord = []\n",
    "    tempHolderForEachWord.append(theWordsFromLongestSentence)\n",
    "\n",
    "    for theWordsFromOtherSentenceIndex in range(len(a)):\n",
    "        if theWordsFromOtherSentenceIndex == 2:\n",
    "            pass\n",
    "        else:\n",
    "            tempHolderForEachWord.append(a[theWordsFromOtherSentenceIndex][iteratorMemory_1])\n",
    "    inputModifiedGroupedAlongSimilarWords.append(tempHolderForEachWord)\n",
    "    iteratorMemory_1 += 1"
   ]
  },
  {
   "cell_type": "code",
   "execution_count": 2,
   "metadata": {},
   "outputs": [
    {
     "data": {
      "text/plain": [
       "[['10AAA', '10A', '10A'],\n",
       " ['Ganapathy', 'Ganapathy', 'Ganpathy'],\n",
       " ['Nagar', 'Nagar', 'Nagar']]"
      ]
     },
     "execution_count": 2,
     "metadata": {},
     "output_type": "execute_result"
    }
   ],
   "source": [
    "inputModifiedGroupedAlongSimilarWords"
   ]
  },
  {
   "cell_type": "code",
   "execution_count": 5,
   "metadata": {},
   "outputs": [],
   "source": [
    "inputModifiedGroupedAlongSimilarWords = [['10AAA', '10A', '10A'], ['Ganapathy', 'Ganapathy', 'Ganapath'], ['Nagar', 'Nagar', 'Nagar']]\n",
    "res = 0\n",
    "for eachSeperatedWord in range(len(inputModifiedGroupedAlongSimilarWords)):\n",
    "    #['10AAA', '10A', '10A']\n",
    "    tempNumberOfCharMatchedWithinSimilarWord = 0\n",
    "    iteratorForChar = 0\n",
    "    for eachCharFromLargestWord in inputModifiedGroupedAlongSimilarWords[eachSeperatedWord][0]:\n",
    "        #1\n",
    "        #0\n",
    "        #A\n",
    "        #A\n",
    "        #A\n",
    "        tempNumberOfMatchFoundForPerCharacter = 0\n",
    "        for wordsExceptLargest in range(1, len(inputModifiedGroupedAlongSimilarWords[eachSeperatedWord][0])):\n",
    "            try:\n",
    "                if eachCharFromLargestWord == inputModifiedGroupedAlongSimilarWords[eachSeperatedWord][wordsExceptLargest][iteratorForChar]:\n",
    "                    tempNumberOfMatchFoundForPerCharacter += 1\n",
    "                else:\n",
    "                    pass\n",
    "            except:\n",
    "                pass\n",
    "        if tempNumberOfMatchFoundForPerCharacter == len(inputModifiedGroupedAlongSimilarWords[eachSeperatedWord])-1 :\n",
    "            tempNumberOfCharMatchedWithinSimilarWord += 1\n",
    "        else:\n",
    "            pass\n",
    "        iteratorForChar += 1\n",
    "    res = res + tempNumberOfCharMatchedWithinSimilarWord"
   ]
  },
  {
   "cell_type": "code",
   "execution_count": 6,
   "metadata": {},
   "outputs": [
    {
     "data": {
      "text/plain": [
       "16"
      ]
     },
     "execution_count": 6,
     "metadata": {},
     "output_type": "execute_result"
    }
   ],
   "source": [
    "res"
   ]
  },
  {
   "cell_type": "code",
   "execution_count": null,
   "metadata": {},
   "outputs": [],
   "source": []
  },
  {
   "cell_type": "code",
   "execution_count": null,
   "metadata": {},
   "outputs": [],
   "source": []
  },
  {
   "cell_type": "code",
   "execution_count": null,
   "metadata": {},
   "outputs": [],
   "source": []
  },
  {
   "cell_type": "code",
   "execution_count": null,
   "metadata": {},
   "outputs": [],
   "source": []
  },
  {
   "cell_type": "code",
   "execution_count": 52,
   "metadata": {},
   "outputs": [
    {
     "name": "stdout",
     "output_type": "stream",
     "text": [
      "ratio :  0.77\n",
      "Match Percentage = 77\n"
     ]
    }
   ],
   "source": [
    "#Parameter Format //array : [\"address 1\", \"address 2\", \"address 3\"......., N] \n",
    "def AddressMatchRatio(inputArray):\n",
    "    maxLengthValueStringIndex = 0\n",
    "    maxLengthValueOfString = 0\n",
    "    numberOfCharMatched = 0\n",
    "\n",
    "    #Converting all upper-case to lower-case alphabet \n",
    "    #To prevent ASCII value mismatch for same alphabet\n",
    "    for eachInputStringInArray in range(len(inputArray)):\n",
    "        inputArray[eachInputStringInArray] = (inputArray[eachInputStringInArray].lower())\n",
    "\n",
    "    #Find Index of Largest String\n",
    "    for eachInputStringInArray in range(len(inputArray)):\n",
    "        if (maxLengthValueOfString) < ( len(inputArray[eachInputStringInArray]) ):\n",
    "            maxLengthValueOfString = len(inputArray[eachInputStringInArray])\n",
    "            maxLengthValueStringIndex = eachInputStringInArray\n",
    "        else:\n",
    "            pass\n",
    "\n",
    "    #Split Each Word In Address Sentence And Group Them\n",
    "    # OUT : [['10A', 'Ganapathy', 'Nagar'], ['10A', 'Ganpathy', 'Nagar'], ['10AAA', 'Ganapathy', 'Nagar']]\n",
    "    inputModified = []\n",
    "    for eachInputStringInArray in range(len(inputArray)):\n",
    "        tempArrayForEachWord = []\n",
    "        catchEachWord = \"\"\n",
    "        for eachChar in inputArray[eachInputStringInArray]:\n",
    "            if eachChar != \" \":\n",
    "                catchEachWord = catchEachWord + eachChar\n",
    "            else:\n",
    "                tempArrayForEachWord.append(catchEachWord)\n",
    "                catchEachWord = \"\"\n",
    "        tempArrayForEachWord.append(catchEachWord)\n",
    "        inputModified.append(tempArrayForEachWord)\n",
    "\n",
    "    #Group Each Similar Word From Each Sentence\n",
    "    # OUT : [['10AAA', '10A', '10A'], ['Ganapathy', 'Ganapathy', 'Ganpathy'], ['Nagar', 'Nagar', 'Nagar']] \n",
    "    inputModifiedGroupedAlongSimilarWords = []\n",
    "\n",
    "    iteratorMemory_1 = 0\n",
    "    for theWordsFromLongestSentence in inputModified[maxLengthValueStringIndex]:\n",
    "        tempHolderForEachWord = []\n",
    "        tempHolderForEachWord.append(theWordsFromLongestSentence)\n",
    "\n",
    "        for theWordsFromOtherSentenceIndex in range(len(inputModified)):\n",
    "            if theWordsFromOtherSentenceIndex == maxLengthValueStringIndex:\n",
    "                pass\n",
    "            else:\n",
    "                try:\n",
    "                    tempHolderForEachWord.append(inputModified[theWordsFromOtherSentenceIndex][iteratorMemory_1])\n",
    "                except:\n",
    "                    pass\n",
    "        inputModifiedGroupedAlongSimilarWords.append(tempHolderForEachWord)\n",
    "        iteratorMemory_1 += 1\n",
    "\n",
    "    #Sorting Based On Size Of Word\n",
    "    for i in range(len(inputModifiedGroupedAlongSimilarWords)):\n",
    "        for j in range(len(inputModifiedGroupedAlongSimilarWords[i])):\n",
    "            if len(inputModifiedGroupedAlongSimilarWords[i][j]) > len(inputModifiedGroupedAlongSimilarWords[i][0]):\n",
    "                tempStorageBeforeReplacing = inputModifiedGroupedAlongSimilarWords[i][0]\n",
    "                inputModifiedGroupedAlongSimilarWords[i][0] = inputModifiedGroupedAlongSimilarWords[i][j]\n",
    "                inputModifiedGroupedAlongSimilarWords[i][j] = tempStorageBeforeReplacing\n",
    "            else:\n",
    "                pass\n",
    "    #print(inputModifiedGroupedAlongSimilarWords)\n",
    "\n",
    "    # Match Finding For Each Char\n",
    "    for eachSeperatedWord in range(len(inputModifiedGroupedAlongSimilarWords)):\n",
    "        tempNumberOfCharMatchedWithinSimilarWord = 0\n",
    "        iteratorForChar = 0\n",
    "        for eachCharFromLargestWord in inputModifiedGroupedAlongSimilarWords[eachSeperatedWord][0]:\n",
    "            tempNumberOfMatchFoundForPerCharacter = 0\n",
    "            for wordsExceptLargest in range(1, len(inputModifiedGroupedAlongSimilarWords[eachSeperatedWord][0])+2):\n",
    "                #print(wordsExceptLargest)\n",
    "                try:\n",
    "                    #print(\"__\",eachCharFromLargestWord, inputModifiedGroupedAlongSimilarWords[eachSeperatedWord][wordsExceptLargest][iteratorForChar])\n",
    "                    if eachCharFromLargestWord == inputModifiedGroupedAlongSimilarWords[eachSeperatedWord][wordsExceptLargest][iteratorForChar]:\n",
    "                        #print(\"Match\")\n",
    "                        tempNumberOfMatchFoundForPerCharacter += 1\n",
    "                    else:\n",
    "                        pass\n",
    "                except:\n",
    "                    pass\n",
    "            #print(\"---\", len(inputModifiedGroupedAlongSimilarWords[eachSeperatedWord])-1)\n",
    "            if tempNumberOfMatchFoundForPerCharacter == len(inputModifiedGroupedAlongSimilarWords[eachSeperatedWord])-1 :\n",
    "                tempNumberOfCharMatchedWithinSimilarWord += 1\n",
    "            else:\n",
    "                pass\n",
    "            iteratorForChar += 1\n",
    "        numberOfCharMatched = numberOfCharMatched + tempNumberOfCharMatchedWithinSimilarWord\n",
    "        \n",
    "    #Remove Space From Address\n",
    "    for i in range(len(inputArray)):\n",
    "        inputArray[i] = inputArray[i].replace(\" \", \"\")\n",
    "\n",
    "    #Percentage Generator\n",
    "    sumOfAllAddressLength = 0\n",
    "    numberOfAddress = len(inputArray)\n",
    "    for eachAddress in inputArray:\n",
    "        sumOfAllAddressLength = sumOfAllAddressLength + len(eachAddress)\n",
    "    MeanValue = sumOfAllAddressLength / numberOfAddress\n",
    "\n",
    "    resultMatchPercentage = (numberOfCharMatched) / MeanValue\n",
    "    #print(numberOfCharMatched, maxLengthValueStringIndex)\n",
    "    return('{0:.2}'.format(resultMatchPercentage))\n",
    "\n",
    "#Function Call\n",
    "ratio = AddressMatchRatio([\"103A Texxas WA\", \"103A Texaas WA\", \"103 texass wa\"])\n",
    "#ratio = AddressMatchRatio([\"10A Ganapathy Nagar\", \"10A Ganpathy Nagar\", \"10AAA Ganapathy Nagar\"])\n",
    "\n",
    "print(\"ratio : \", ratio)\n",
    "print(\"Match Percentage = \" + str(round((float(ratio)) * (100))))"
   ]
  },
  {
   "cell_type": "code",
   "execution_count": 7,
   "metadata": {},
   "outputs": [
    {
     "data": {
      "text/plain": [
       "0.6470588235294118"
      ]
     },
     "execution_count": 7,
     "metadata": {},
     "output_type": "execute_result"
    }
   ],
   "source": [
    "11/len(\"10AAAGanapathyNagar\")\n",
    "11/17\n",
    "\n",
    "#(16+17+18)/3"
   ]
  },
  {
   "cell_type": "code",
   "execution_count": 34,
   "metadata": {},
   "outputs": [
    {
     "data": {
      "text/plain": [
       "58"
      ]
     },
     "execution_count": 34,
     "metadata": {},
     "output_type": "execute_result"
    }
   ],
   "source": [
    "round(0.58*100)"
   ]
  },
  {
   "cell_type": "code",
   "execution_count": null,
   "metadata": {},
   "outputs": [],
   "source": []
  }
 ],
 "metadata": {
  "kernelspec": {
   "display_name": "Python 3.8.3 ('base')",
   "language": "python",
   "name": "python3"
  },
  "language_info": {
   "codemirror_mode": {
    "name": "ipython",
    "version": 3
   },
   "file_extension": ".py",
   "mimetype": "text/x-python",
   "name": "python",
   "nbconvert_exporter": "python",
   "pygments_lexer": "ipython3",
   "version": "3.8.3"
  },
  "orig_nbformat": 4,
  "vscode": {
   "interpreter": {
    "hash": "6defd577cd85e3649e86c46a537635b7104b081260a238509c81cac8b534171b"
   }
  }
 },
 "nbformat": 4,
 "nbformat_minor": 2
}
